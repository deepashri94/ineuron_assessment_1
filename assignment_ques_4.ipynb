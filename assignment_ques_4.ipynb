{
 "cells": [
  {
   "cell_type": "code",
   "execution_count": 1,
   "metadata": {},
   "outputs": [
    {
     "name": "stdout",
     "output_type": "stream",
     "text": [
      "Enter some numbers : 5,8,6,98,12,47,0,86\n",
      "['5', ',', '8', ',', '6', ',', '9', '8', ',', '1', '2', ',', '4', '7', ',', '0', ',', '8', '6']\n"
     ]
    }
   ],
   "source": [
    "\"\"\"Write a program which accepts a sequence of comma-separated numbers from console and\n",
    "generate a list.\"\"\"\n",
    "\n",
    "numbers = list(input(\"Enter some numbers : \"))\n",
    "print(numbers)"
   ]
  },
  {
   "cell_type": "code",
   "execution_count": null,
   "metadata": {},
   "outputs": [],
   "source": []
  }
 ],
 "metadata": {
  "kernelspec": {
   "display_name": "Python 3",
   "language": "python",
   "name": "python3"
  },
  "language_info": {
   "codemirror_mode": {
    "name": "ipython",
    "version": 3
   },
   "file_extension": ".py",
   "mimetype": "text/x-python",
   "name": "python",
   "nbconvert_exporter": "python",
   "pygments_lexer": "ipython3",
   "version": "3.7.6"
  }
 },
 "nbformat": 4,
 "nbformat_minor": 4
}
