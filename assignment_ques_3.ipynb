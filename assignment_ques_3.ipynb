{
 "cells": [
  {
   "cell_type": "code",
   "execution_count": 1,
   "metadata": {},
   "outputs": [
    {
     "name": "stdout",
     "output_type": "stream",
     "text": [
      "Volume of sphere with diameter 12 is 904.7786842338603\n"
     ]
    }
   ],
   "source": [
    "\"\"\"Write a Python program to find the volume of a sphere with diameter 12 cm.\"\"\"\n",
    "\n",
    "import math\n",
    "\n",
    "diameter = 12\n",
    "radius = diameter / 2\n",
    "volume = 4/3 * math.pi * radius**3\n",
    "\n",
    "print(\"Volume of sphere with diameter 12 is \" + str(volume))"
   ]
  },
  {
   "cell_type": "code",
   "execution_count": null,
   "metadata": {},
   "outputs": [],
   "source": []
  }
 ],
 "metadata": {
  "kernelspec": {
   "display_name": "Python 3",
   "language": "python",
   "name": "python3"
  },
  "language_info": {
   "codemirror_mode": {
    "name": "ipython",
    "version": 3
   },
   "file_extension": ".py",
   "mimetype": "text/x-python",
   "name": "python",
   "nbconvert_exporter": "python",
   "pygments_lexer": "ipython3",
   "version": "3.7.6"
  }
 },
 "nbformat": 4,
 "nbformat_minor": 4
}
